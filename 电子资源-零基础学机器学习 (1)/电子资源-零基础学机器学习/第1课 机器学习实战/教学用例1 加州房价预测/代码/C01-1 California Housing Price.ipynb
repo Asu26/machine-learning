{
 "cells": [
  {
   "cell_type": "code",
   "execution_count": null,
   "metadata": {
    "_cell_guid": "b1076dfc-b9ad-4769-8c92-a6c4dae69d19",
    "_uuid": "8f2839f25d086af736a60e9eeb907d3b93b6e0e5"
   },
   "outputs": [],
   "source": [
    "import pandas as pd #导入Pandas，用于数据读取和处理\n",
    "# 读入房价数据，示例代码中的文件地址为internet链接，读者也可以下载该文件到本机进行读取\n",
    "# 如，当数据集和代码文件位于相同本地目录，路径名应为\"./house.csv\"，或直接放\"house.csv\"亦可\n",
    "df_housing = pd.read_csv(\"https://raw.githubusercontent.com/huangjia2019/house/master/house.csv\") \n",
    "df_housing.head #显示加州房价数据"
   ]
  },
  {
   "cell_type": "code",
   "execution_count": null,
   "metadata": {
    "_cell_guid": "79c7e3d0-c299-4dcb-8224-4455121ee9b0",
    "_uuid": "d629ff2d2480ee46fbb7e2d37f6b5fab8052498a"
   },
   "outputs": [],
   "source": [
    "X = df_housing.drop(\"median_house_value\",axis = 1) #构建特征集X\n",
    "y = df_housing.median_house_value #构建标签集y"
   ]
  },
  {
   "cell_type": "code",
   "execution_count": null,
   "metadata": {},
   "outputs": [],
   "source": [
    "from sklearn.model_selection import train_test_split #导入数据集拆分工具\n",
    "X_train, X_test, y_train, y_test = train_test_split(X, y, \n",
    "         test_size=0.2, random_state=0) #以80%/20%的比例进行数据集的拆分"
   ]
  },
  {
   "cell_type": "code",
   "execution_count": null,
   "metadata": {},
   "outputs": [],
   "source": [
    "from sklearn.linear_model import LinearRegression #导入线性回归算法模型\n",
    "model = LinearRegression() #使用线性回归算法\n",
    "model.fit(X_train, y_train) #用训练集数据，训练机器，拟合函数，确定参数"
   ]
  },
  {
   "cell_type": "code",
   "execution_count": null,
   "metadata": {},
   "outputs": [],
   "source": [
    "y_pred = model.predict(X_test) #预测测试集的Y值\n",
    "print ('房价的真值(测试集)',y_test)\n",
    "print ('预测的房价(测试集)',y_pred)"
   ]
  },
  {
   "cell_type": "code",
   "execution_count": null,
   "metadata": {},
   "outputs": [],
   "source": [
    "print(\"给预测评分：\", model.score(X_test, y_test)) #评估预测结果"
   ]
  },
  {
   "cell_type": "code",
   "execution_count": null,
   "metadata": {},
   "outputs": [],
   "source": [
    "import matplotlib.pyplot as plt #导入matplotlib画图库\n",
    "#用散点图显示家庭收入中位数和房价中位数的分布\n",
    "plt.scatter(X_test.median_income, y_test,  color='brown')\n",
    "#画出回归函数(从特征到预测标签)\n",
    "plt.plot(X_test.median_income, y_pred, color='green', linewidth=1)\n",
    "plt.xlabel('Median Income') #X轴-家庭收入中位数\n",
    "plt.ylabel('Median House Value') #Y轴-房价中位数\n",
    "plt.show() #显示房价分布和机器习得的函数图形"
   ]
  }
 ],
 "metadata": {
  "kernelspec": {
   "display_name": "Python 3 (ipykernel)",
   "language": "python",
   "name": "python3"
  },
  "language_info": {
   "codemirror_mode": {
    "name": "ipython",
    "version": 3
   },
   "file_extension": ".py",
   "mimetype": "text/x-python",
   "name": "python",
   "nbconvert_exporter": "python",
   "pygments_lexer": "ipython3",
   "version": "3.8.12"
  }
 },
 "nbformat": 4,
 "nbformat_minor": 4
}
