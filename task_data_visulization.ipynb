{
 "cells": [
  {
   "cell_type": "code",
   "execution_count": null,
   "id": "5208c884",
   "metadata": {},
   "outputs": [],
   "source": [
    "import pandas as pd\n",
    "import keras\n",
    "import numpy as np\n",
    "import matplotlib.pyplot as plt "
   ]
  },
  {
   "cell_type": "code",
   "execution_count": null,
   "id": "24272c17",
   "metadata": {},
   "outputs": [],
   "source": [
    "TRAIN_URL = \"http://download.tensorflow.org/data/iris_training.csv\"\n",
    "train_path = keras.utils.get_file(TRAIN_URL.split('/')[-1],TRAIN_URL)\n",
    "\n",
    "COLUMN_NAMES = ['SepalLength','SepalWidth','PetalLength','PetalWidth','Species']\n",
    "df_iris = pd.read_csv(train_path,header=0,names=COLUMN_NAMES)\n",
    "iris = df_iris.values\n",
    "\n",
    "plt.figure(figsize=(20,20))\n",
    "plt.suptitle(\"iris data set\\n(blue->setosa|red->versicolor|green->virginica)\")\n",
    "\n",
    "for i in range(4):\n",
    "    for j in range(4):\n",
    "        plt.subplot(4,4,4*i+j+1)\n",
    "        if(i==j):\n",
    "            plt.text(0.3,0.5,COLUMN_NAMES[i],fontsize=15)\n",
    "        else:\n",
    "            plt.scatter(iris[:,j],iris[:,i],c=iris[:,4],cmap='brg')\n",
    "        if(j==0):\n",
    "            plt.ylabel(COLUMN_NAMES[i])\n",
    "        if(i==0):\n",
    "            plt.title(COLUMN_NAMES[j])\n",
    "plt.tight_layout(rect=[0,0,1,0.9])\n",
    "plt.show()  "
   ]
  },
  {
   "cell_type": "markdown",
   "id": "e9ffeb22",
   "metadata": {},
   "source": [
    "# 波士顿房价数据集可视化,显示每个特征与标签之间的关系"
   ]
  },
  {
   "cell_type": "markdown",
   "id": "3e6bcbd5",
   "metadata": {},
   "source": [
    "# 1.下载数据集"
   ]
  },
  {
   "cell_type": "markdown",
   "id": "595e00e7",
   "metadata": {},
   "source": [
    "# 利用keras自带的数据库,通过load_data方法下载."
   ]
  },
  {
   "cell_type": "code",
   "execution_count": null,
   "id": "d698a029",
   "metadata": {},
   "outputs": [],
   "source": [
    "boston_housing = keras.datasets.boston_housing\n",
    "(train_x,train_y),(test_x,test_y) = boston_housing.load_data(test_split=0)"
   ]
  },
  {
   "cell_type": "code",
   "execution_count": null,
   "id": "f6bbe1c7",
   "metadata": {},
   "outputs": [],
   "source": [
    "print(type(train_x))\n",
    "print(\"Dim of train_x\",train_x.ndim)\n",
    "print(\"shape of train_x\",train_x.shape)\n",
    "print(\"Dim of train_y\",train_y.ndim)\n",
    "print(\"shape of train_y\",train_y.shape)"
   ]
  },
  {
   "cell_type": "code",
   "execution_count": null,
   "id": "e7b2b0db",
   "metadata": {},
   "outputs": [],
   "source": [
    "# 波士顿房价数据集的13个特征\n",
    "titles = [\"CRIM\",\"ZN\",\"INDUS\",\"CHAS\",\"NOX\",\"RM\",\"AGE\",\"DIS\",\"RAD\",\"TAX\",\"PTRATIO\",\"B-1000\",\"LSTAT\",\"MEDV\"]"
   ]
  },
  {
   "cell_type": "markdown",
   "id": "c1ade6e9",
   "metadata": {},
   "source": [
    "# 2.绘制散点图"
   ]
  },
  {
   "cell_type": "code",
   "execution_count": null,
   "id": "ab45297a",
   "metadata": {},
   "outputs": [],
   "source": [
    "plt.figure()\n",
    "plt.scatter(train_x[:,0],train_y)\n",
    "plt.xlabel(\"CRIM\")\n",
    "plt.ylabel(\"PRICE\")\n",
    "plt.title(\"1.CRIM-PRICE\")\n",
    "plt.show()"
   ]
  },
  {
   "cell_type": "markdown",
   "id": "fe1a5c3b",
   "metadata": {},
   "source": [
    "请在一张画布上将所有的特征与标签的散点图绘制出来."
   ]
  },
  {
   "cell_type": "code",
   "execution_count": null,
   "id": "bc8b51eb",
   "metadata": {},
   "outputs": [],
   "source": []
  }
 ],
 "metadata": {
  "kernelspec": {
   "display_name": "Python 3",
   "language": "python",
   "name": "python3"
  },
  "language_info": {
   "codemirror_mode": {
    "name": "ipython",
    "version": 3
   },
   "file_extension": ".py",
   "mimetype": "text/x-python",
   "name": "python",
   "nbconvert_exporter": "python",
   "pygments_lexer": "ipython3",
   "version": "3.6.13"
  }
 },
 "nbformat": 4,
 "nbformat_minor": 5
}
